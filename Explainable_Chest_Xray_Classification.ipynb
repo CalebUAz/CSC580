{
  "metadata": {
    "kernelspec": {
      "language": "python",
      "display_name": "Python 3",
      "name": "python3"
    },
    "language_info": {
      "pygments_lexer": "ipython3",
      "nbconvert_exporter": "python",
      "version": "3.6.4",
      "file_extension": ".py",
      "codemirror_mode": {
        "name": "ipython",
        "version": 3
      },
      "name": "python",
      "mimetype": "text/x-python"
    },
    "colab": {
      "name": "covid-detection-from-cxr-using-explainable-cnn (1).ipynb",
      "provenance": []
    }
  },
  "nbformat_minor": 0,
  "nbformat": 4,
  "cells": [
    {
      "cell_type": "code",
      "source": [
        "import tensorflow\n",
        "from PIL import Image\n",
        "import glob\n",
        "import numpy as np\n",
        "import argparse\n",
        "import cv2\n",
        "from sklearn.metrics import precision_score\n",
        "from sklearn.metrics import recall_score\n",
        "from sklearn.metrics import f1_score\n",
        "from tensorflow.keras.models import Model, Sequential\n",
        "from sklearn.model_selection import StratifiedKFold\n",
        "from tensorflow.keras.layers import Input, Dense, Flatten, Dropout, BatchNormalization\n",
        "import scipy\n",
        "import skimage\n",
        "from skimage.transform import resize\n",
        "import random\n",
        "from PIL import Image\n",
        "import glob\n",
        "from tensorflow.keras.preprocessing.image import load_img, save_img, img_to_array\n",
        "from tensorflow.keras.applications import VGG16\n",
        "from tensorflow.keras.preprocessing import image\n",
        "from tensorflow.keras.layers import AveragePooling2D\n",
        "from tensorflow.keras.layers import Dropout\n",
        "from tensorflow.keras.layers import Flatten\n",
        "from tensorflow.keras.layers import Dense\n",
        "from tensorflow.keras import backend as K\n",
        "from tensorflow.keras.layers import Input\n",
        "from tensorflow.keras.models import Model\n",
        "from tensorflow.keras.optimizers import Adam,SGD,RMSprop,Adamax\n",
        "from tensorflow.keras.utils import to_categorical\n",
        "from sklearn.preprocessing import LabelBinarizer\n",
        "from sklearn.model_selection import train_test_split\n",
        "from sklearn.metrics import classification_report\n",
        "from sklearn.metrics import confusion_matrix\n",
        "import matplotlib.pyplot as plt\n",
        "from tensorflow.keras.layers import Input, Dense, Flatten, Dropout, BatchNormalization\n",
        "from tensorflow.keras.optimizers import Adam,Adadelta,RMSprop,Adagrad\n",
        "from tensorflow.keras.preprocessing.image import ImageDataGenerator\n",
        "from tensorflow.keras.callbacks import ModelCheckpoint, ReduceLROnPlateau\n",
        "from tensorflow.keras.layers import Conv2D, SeparableConv2D, MaxPool2D, LeakyReLU, Activation\n",
        "from tensorflow.keras.applications.imagenet_utils import preprocess_input\n",
        "import numpy as np\n",
        "import argparse\n",
        "import cv2\n",
        "from sklearn.metrics import precision_score\n",
        "from sklearn.metrics import recall_score\n",
        "from sklearn.metrics import f1_score\n",
        "from tensorflow.keras.models import Model, Sequential\n",
        "from sklearn.model_selection import StratifiedKFold\n",
        "from tensorflow.keras.layers import Input, Dense, Flatten, Dropout, BatchNormalization\n",
        "import scipy\n",
        "import skimage\n",
        "from skimage.transform import resize\n",
        "import random\n",
        "import os\n",
        "for dirname, _, filenames in os.walk('/kaggle/input'):\n",
        "    for filename in filenames:\n",
        "        print(os.path.join(dirname, filename))\n",
        "\n",
        "# You can write up to 20GB to the current directory (/kaggle/working/) that gets preserved as output when you create a version using \"Save & Run All\" \n",
        "# You can also write temporary files to /kaggle/temp/, but they won't be saved outside of the current session"
      ],
      "metadata": {
        "_uuid": "8f2839f25d086af736a60e9eeb907d3b93b6e0e5",
        "_cell_guid": "b1076dfc-b9ad-4769-8c92-a6c4dae69d19",
        "execution": {
          "iopub.status.busy": "2021-12-05T21:52:16.813301Z",
          "iopub.execute_input": "2021-12-05T21:52:16.814169Z",
          "iopub.status.idle": "2021-12-05T21:52:22.961458Z",
          "shell.execute_reply.started": "2021-12-05T21:52:16.813982Z",
          "shell.execute_reply": "2021-12-05T21:52:22.960673Z"
        },
        "trusted": true,
        "id": "URg6gJFsRj_u"
      },
      "execution_count": null,
      "outputs": []
    },
    {
      "cell_type": "code",
      "source": [
        "import tensorflow as tf\n",
        "print(tf.__version__)"
      ],
      "metadata": {
        "execution": {
          "iopub.status.busy": "2021-12-05T21:52:22.963045Z",
          "iopub.execute_input": "2021-12-05T21:52:22.963376Z",
          "iopub.status.idle": "2021-12-05T21:52:22.968467Z",
          "shell.execute_reply.started": "2021-12-05T21:52:22.963341Z",
          "shell.execute_reply": "2021-12-05T21:52:22.967375Z"
        },
        "trusted": true,
        "id": "PHCO1wfSRj_z"
      },
      "execution_count": null,
      "outputs": []
    },
    {
      "cell_type": "code",
      "source": [
        "def Images_details_Print_data(data, path):\n",
        "    print(\" ====== Images in: \", path)    \n",
        "    for k, v in data.items():\n",
        "        print(\"%s:\\t%s\" % (k, v))\n",
        "\n",
        "def Images_details(path):\n",
        "    files = [f for f in glob.glob(path + \"**/*.*\", recursive=True)]\n",
        "    data = {}\n",
        "    data['images_count'] = len(files)\n",
        "    data['min_width'] = 10**100  # No image will be bigger than that\n",
        "    data['max_width'] = 0\n",
        "    data['min_height'] = 10**100  # No image will be bigger than that\n",
        "    data['max_height'] = 0\n",
        "\n",
        "\n",
        "    for f in files:\n",
        "        im = Image.open(f)\n",
        "        width, height = im.size\n",
        "        data['min_width'] = min(width, data['min_width'])\n",
        "        data['max_width'] = max(width, data['max_height'])\n",
        "        data['min_height'] = min(height, data['min_height'])\n",
        "        data['max_height'] = max(height, data['max_height'])\n",
        "\n",
        "    Images_details_Print_data(data, path)"
      ],
      "metadata": {
        "execution": {
          "iopub.status.busy": "2021-12-05T21:52:22.970276Z",
          "iopub.execute_input": "2021-12-05T21:52:22.970666Z",
          "iopub.status.idle": "2021-12-05T21:52:22.983002Z",
          "shell.execute_reply.started": "2021-12-05T21:52:22.970631Z",
          "shell.execute_reply": "2021-12-05T21:52:22.982173Z"
        },
        "trusted": true,
        "id": "DCn2SF-QRj_0"
      },
      "execution_count": null,
      "outputs": []
    },
    {
      "cell_type": "code",
      "source": [
        "COV_DIR = \"/kaggle/input/covid-cxr-image-dataset-research/COVID_IEEE/covid/\"\n",
        "NORM_DIR = \"/kaggle/input/covid-cxr-image-dataset-research/COVID_IEEE/normal/\"\n",
        "VIR_DIR = \"/kaggle/input/covid-cxr-image-dataset-research/COVID_IEEE/virus/\""
      ],
      "metadata": {
        "execution": {
          "iopub.status.busy": "2021-12-05T21:52:22.984266Z",
          "iopub.execute_input": "2021-12-05T21:52:22.984602Z",
          "iopub.status.idle": "2021-12-05T21:52:22.991768Z",
          "shell.execute_reply.started": "2021-12-05T21:52:22.984578Z",
          "shell.execute_reply": "2021-12-05T21:52:22.990847Z"
        },
        "trusted": true,
        "id": "t-3XJEWoRj_1"
      },
      "execution_count": null,
      "outputs": []
    },
    {
      "cell_type": "code",
      "source": [
        "Images_details(NORM_DIR)"
      ],
      "metadata": {
        "execution": {
          "iopub.status.busy": "2021-12-05T21:52:22.99308Z",
          "iopub.execute_input": "2021-12-05T21:52:22.993448Z",
          "iopub.status.idle": "2021-12-05T21:52:32.760438Z",
          "shell.execute_reply.started": "2021-12-05T21:52:22.993413Z",
          "shell.execute_reply": "2021-12-05T21:52:32.759655Z"
        },
        "trusted": true,
        "id": "ZEheyMIJRj_1"
      },
      "execution_count": null,
      "outputs": []
    },
    {
      "cell_type": "code",
      "source": [
        "Images_details(COV_DIR)"
      ],
      "metadata": {
        "execution": {
          "iopub.status.busy": "2021-12-05T21:52:32.761542Z",
          "iopub.execute_input": "2021-12-05T21:52:32.761874Z",
          "iopub.status.idle": "2021-12-05T21:52:36.409414Z",
          "shell.execute_reply.started": "2021-12-05T21:52:32.761842Z",
          "shell.execute_reply": "2021-12-05T21:52:36.408537Z"
        },
        "trusted": true,
        "id": "udm6CYDRRj_1"
      },
      "execution_count": null,
      "outputs": []
    },
    {
      "cell_type": "code",
      "source": [
        "Images_details(VIR_DIR)"
      ],
      "metadata": {
        "execution": {
          "iopub.status.busy": "2021-12-05T21:52:36.410681Z",
          "iopub.execute_input": "2021-12-05T21:52:36.411217Z",
          "iopub.status.idle": "2021-12-05T21:52:39.639389Z",
          "shell.execute_reply.started": "2021-12-05T21:52:36.411179Z",
          "shell.execute_reply": "2021-12-05T21:52:39.638538Z"
        },
        "trusted": true,
        "id": "6UExatVYRj_2"
      },
      "execution_count": null,
      "outputs": []
    },
    {
      "cell_type": "code",
      "source": [
        "Cimages = os.listdir(COV_DIR)\n",
        "Nimages = os.listdir(NORM_DIR)\n",
        "Vimages = os.listdir(VIR_DIR)"
      ],
      "metadata": {
        "execution": {
          "iopub.status.busy": "2021-12-05T21:52:39.640687Z",
          "iopub.execute_input": "2021-12-05T21:52:39.64104Z",
          "iopub.status.idle": "2021-12-05T21:52:39.64834Z",
          "shell.execute_reply.started": "2021-12-05T21:52:39.640996Z",
          "shell.execute_reply": "2021-12-05T21:52:39.647485Z"
        },
        "trusted": true,
        "id": "6CzHt2PoRj_2"
      },
      "execution_count": null,
      "outputs": []
    },
    {
      "cell_type": "code",
      "source": [
        "sample_images = random.sample(Cimages,6)\n",
        "f,ax = plt.subplots(2,3,figsize=(15,9))\n",
        "\n",
        "for i in range(0,6):\n",
        "    im = cv2.imread('/kaggle/input/covid-cxr-image-dataset-research/COVID_IEEE/covid/'+sample_images[i])\n",
        "    ax[i//3,i%3].imshow(im)\n",
        "    ax[i//3,i%3].axis('off')\n",
        "f.suptitle('COVID-19 affected Chest X-Ray',fontsize=20)\n",
        "plt.show()"
      ],
      "metadata": {
        "execution": {
          "iopub.status.busy": "2021-12-05T21:52:39.652471Z",
          "iopub.execute_input": "2021-12-05T21:52:39.652743Z",
          "iopub.status.idle": "2021-12-05T21:52:41.081419Z",
          "shell.execute_reply.started": "2021-12-05T21:52:39.652712Z",
          "shell.execute_reply": "2021-12-05T21:52:41.080641Z"
        },
        "trusted": true,
        "id": "_7odkS04Rj_2"
      },
      "execution_count": null,
      "outputs": []
    },
    {
      "cell_type": "code",
      "source": [
        "sample_images = random.sample(Vimages,6)\n",
        "f,ax = plt.subplots(2,3,figsize=(15,9))\n",
        "\n",
        "for i in range(0,6):\n",
        "    im = cv2.imread('/kaggle/input/covid-cxr-image-dataset-research/COVID_IEEE/virus/'+sample_images[i])\n",
        "    ax[i//3,i%3].imshow(im)\n",
        "    ax[i//3,i%3].axis('off')\n",
        "f.suptitle('Viral Infection affected Chest X-Ray',fontsize=20)\n",
        "plt.show()"
      ],
      "metadata": {
        "execution": {
          "iopub.status.busy": "2021-12-05T21:52:41.083298Z",
          "iopub.execute_input": "2021-12-05T21:52:41.083661Z",
          "iopub.status.idle": "2021-12-05T21:52:42.051733Z",
          "shell.execute_reply.started": "2021-12-05T21:52:41.083625Z",
          "shell.execute_reply": "2021-12-05T21:52:42.050853Z"
        },
        "trusted": true,
        "id": "rSzY9ic1Rj_3"
      },
      "execution_count": null,
      "outputs": []
    },
    {
      "cell_type": "code",
      "source": [
        "sample_images = random.sample(Nimages,6)\n",
        "f,ax = plt.subplots(2,3,figsize=(15,9))\n",
        "\n",
        "for i in range(0,6):\n",
        "    im = cv2.imread('/kaggle/input/covid-cxr-image-dataset-research/COVID_IEEE/normal/'+sample_images[i])\n",
        "    ax[i//3,i%3].imshow(im)\n",
        "    ax[i//3,i%3].axis('off')\n",
        "f.suptitle('Normal Chest X-Ray',fontsize=20)\n",
        "plt.show()"
      ],
      "metadata": {
        "execution": {
          "iopub.status.busy": "2021-12-05T21:52:42.053043Z",
          "iopub.execute_input": "2021-12-05T21:52:42.053526Z",
          "iopub.status.idle": "2021-12-05T21:52:44.236559Z",
          "shell.execute_reply.started": "2021-12-05T21:52:42.053487Z",
          "shell.execute_reply": "2021-12-05T21:52:44.23577Z"
        },
        "trusted": true,
        "id": "2Kalk-XYRj_3"
      },
      "execution_count": null,
      "outputs": []
    },
    {
      "cell_type": "code",
      "source": [
        "## Enhancing the CXR Images using White balance and CLAHE\n",
        "\n",
        "def wb(channel, perc = 0.05):\n",
        "    mi, ma = (np.percentile(channel, perc), np.percentile(channel,100.0-perc))\n",
        "    channel = np.uint8(np.clip((channel-mi)*255.0/(ma-mi), 0, 255))\n",
        "    return channel"
      ],
      "metadata": {
        "execution": {
          "iopub.status.busy": "2021-12-05T21:52:44.237871Z",
          "iopub.execute_input": "2021-12-05T21:52:44.238394Z",
          "iopub.status.idle": "2021-12-05T21:52:44.243937Z",
          "shell.execute_reply.started": "2021-12-05T21:52:44.238359Z",
          "shell.execute_reply": "2021-12-05T21:52:44.242762Z"
        },
        "trusted": true,
        "id": "MRJLqpxeRj_5"
      },
      "execution_count": null,
      "outputs": []
    },
    {
      "cell_type": "markdown",
      "source": [
        "## Data preparation"
      ],
      "metadata": {
        "id": "RVwIJu48Rj_5"
      }
    },
    {
      "cell_type": "code",
      "source": [
        "data=[]\n",
        "labels=[]\n",
        "Uninfected=os.listdir(\"/kaggle/input/covid-cxr-image-dataset-research/COVID_IEEE/normal/\")\n",
        "for a in Uninfected:\n",
        "\t# extract the class label from the filename\n",
        "\t\n",
        "\n",
        "\t# load the image, swap color channels, and resize it to be a fixed\n",
        "\t# 224x224 pixels while ignoring aspect ratio\n",
        "\timage = cv2.imread(\"/kaggle/input/covid-cxr-image-dataset-research/COVID_IEEE/normal/\"+a)\n",
        "\timWB  = np.dstack([wb(channel, 0.05) for channel in cv2.split(image)] )\n",
        "\tgray_image = cv2.cvtColor(imWB, cv2.COLOR_BGR2GRAY)\n",
        "\tclahe = cv2.createCLAHE(clipLimit=2.0, tileGridSize=(16, 16))\n",
        "\timg_clahe1 = clahe.apply(gray_image)\n",
        "\timg = cv2.cvtColor(img_clahe1, cv2.COLOR_GRAY2RGB)\n",
        "\timage = cv2.resize(img, (224, 224))\n",
        "\n",
        "\t# update the data and labels lists, respectively\n",
        "\tdata.append(image)\n",
        "\tlabels.append(0)\n",
        "\n",
        "Covid=os.listdir(\"/kaggle/input/covid-cxr-image-dataset-research/COVID_IEEE/covid/\")\n",
        "for b in Covid:\n",
        "\t# extract the class label from the filename\n",
        "\t\n",
        "\n",
        "\t# load the image, swap color channels, and resize it to be a fixed\n",
        "\t# 224x224 pixels while ignoring aspect ratio\n",
        "\timage = cv2.imread(\"/kaggle/input/covid-cxr-image-dataset-research/COVID_IEEE/covid/\"+b)\n",
        "\timWB  = np.dstack([wb(channel, 0.05) for channel in cv2.split(image)] )\n",
        "\tgray_image = cv2.cvtColor(imWB, cv2.COLOR_BGR2GRAY)\n",
        "\tclahe = cv2.createCLAHE(clipLimit=2.0, tileGridSize=(16, 16))\n",
        "\timg_clahe1 = clahe.apply(gray_image)\n",
        "\timg = cv2.cvtColor(img_clahe1, cv2.COLOR_GRAY2RGB)\n",
        "\timage = cv2.resize(img, (224, 224))\n",
        "\t# update the data and labels lists, respectively\n",
        "\tdata.append(image)\n",
        "\tlabels.append(1)\n",
        " \n",
        "Virus=os.listdir(\"/kaggle/input/covid-cxr-image-dataset-research/COVID_IEEE/virus/\")\n",
        "for c in Virus:\n",
        "\t# extract the class label from the filename\n",
        "\t\n",
        "\n",
        "\t# load the image, swap color channels, and resize it to be a fixed\n",
        "\t# 224x224 pixels while ignoring aspect ratio\n",
        "\timage = cv2.imread(\"/kaggle/input/covid-cxr-image-dataset-research/COVID_IEEE/virus/\"+c)\n",
        "\timWB  = np.dstack([wb(channel, 0.05) for channel in cv2.split(image)] )\n",
        "\tgray_image = cv2.cvtColor(imWB, cv2.COLOR_BGR2GRAY)\n",
        "\tclahe = cv2.createCLAHE(clipLimit=2.0, tileGridSize=(16, 16))\n",
        "\timg_clahe1 = clahe.apply(gray_image)\n",
        "\timg = cv2.cvtColor(img_clahe1, cv2.COLOR_GRAY2RGB)\n",
        "\timage = cv2.resize(img, (224, 224))\n",
        "\n",
        "\t# update the data and labels lists, respectively\n",
        "\tdata.append(image)\n",
        "\tlabels.append(2)"
      ],
      "metadata": {
        "execution": {
          "iopub.status.busy": "2021-12-05T21:52:44.245695Z",
          "iopub.execute_input": "2021-12-05T21:52:44.246267Z",
          "iopub.status.idle": "2021-12-05T21:55:27.342945Z",
          "shell.execute_reply.started": "2021-12-05T21:52:44.246232Z",
          "shell.execute_reply": "2021-12-05T21:55:27.342026Z"
        },
        "trusted": true,
        "id": "E0RAy0rARj_6"
      },
      "execution_count": null,
      "outputs": []
    },
    {
      "cell_type": "markdown",
      "source": [
        "## Image normalization"
      ],
      "metadata": {
        "id": "JYM_V4sVRj_6"
      }
    },
    {
      "cell_type": "code",
      "source": [
        "# data normalization by dividing image pixels by 255\n",
        "data = np.array(data) / 255.0\n",
        "labels = np.array(labels)"
      ],
      "metadata": {
        "execution": {
          "iopub.status.busy": "2021-12-05T21:55:27.344338Z",
          "iopub.execute_input": "2021-12-05T21:55:27.344895Z",
          "iopub.status.idle": "2021-12-05T21:55:28.097206Z",
          "shell.execute_reply.started": "2021-12-05T21:55:27.344857Z",
          "shell.execute_reply": "2021-12-05T21:55:28.096329Z"
        },
        "trusted": true,
        "id": "t4amh-CZRj_6"
      },
      "execution_count": null,
      "outputs": []
    },
    {
      "cell_type": "markdown",
      "source": [
        "## Train Test Split"
      ],
      "metadata": {
        "id": "98GjAZTMRj_6"
      }
    },
    {
      "cell_type": "code",
      "source": [
        "from sklearn.model_selection import train_test_split\n",
        "(trainX, testX, trainY, testY) = train_test_split(data, labels,stratify=labels,\n",
        "\ttest_size=0.20,  random_state=42)"
      ],
      "metadata": {
        "execution": {
          "iopub.status.busy": "2021-12-05T21:55:28.098442Z",
          "iopub.execute_input": "2021-12-05T21:55:28.098788Z",
          "iopub.status.idle": "2021-12-05T21:55:28.801001Z",
          "shell.execute_reply.started": "2021-12-05T21:55:28.098754Z",
          "shell.execute_reply": "2021-12-05T21:55:28.800044Z"
        },
        "trusted": true,
        "id": "XHoCcVW4Rj_7"
      },
      "execution_count": null,
      "outputs": []
    },
    {
      "cell_type": "code",
      "source": [
        "trainAug  = ImageDataGenerator(\n",
        "\trotation_range=15,\n",
        "\tfill_mode=\"nearest\")"
      ],
      "metadata": {
        "execution": {
          "iopub.status.busy": "2021-12-05T21:55:28.802367Z",
          "iopub.execute_input": "2021-12-05T21:55:28.80284Z",
          "iopub.status.idle": "2021-12-05T21:55:28.811469Z",
          "shell.execute_reply.started": "2021-12-05T21:55:28.802802Z",
          "shell.execute_reply": "2021-12-05T21:55:28.810447Z"
        },
        "trusted": true,
        "id": "rFlQdR0DRj_7"
      },
      "execution_count": null,
      "outputs": []
    },
    {
      "cell_type": "markdown",
      "source": [
        "## Model Building\n",
        "\n",
        "In this kernel I will be using Depthwise separable CNNs"
      ],
      "metadata": {
        "id": "SUfFXcUFRj_7"
      }
    },
    {
      "cell_type": "code",
      "source": [
        "inputs = Input(shape=(224, 224,3))\n",
        "# First conv block\n",
        "x = Conv2D(filters=4, kernel_size=(3, 3), activation='relu', padding='same')(inputs)\n",
        "x = Conv2D(filters=4, kernel_size=(3, 3), activation='relu', padding='same')(x)\n",
        "x = MaxPool2D(pool_size=(2, 2))(x)\n",
        "\n",
        "# second conv block\n",
        "x = Conv2D(filters=8, kernel_size=(3, 3), activation='relu', padding='same')(inputs)\n",
        "x = Conv2D(filters=8, kernel_size=(3, 3), activation='relu', padding='same')(x)\n",
        "x = MaxPool2D(pool_size=(2, 2))(x)\n",
        "\n",
        "# third conv block\n",
        "x = Conv2D(filters=16, kernel_size=(3, 3), activation='relu', padding='same')(inputs)\n",
        "x = Conv2D(filters=16, kernel_size=(3, 3), activation='relu', padding='same')(x)\n",
        "x = MaxPool2D(pool_size=(2, 2))(x)\n",
        "\n",
        "\n",
        "# first separable conv block\n",
        "x = SeparableConv2D(filters=32, kernel_size=(3, 3), activation='relu', padding='same')(x)\n",
        "x = SeparableConv2D(filters=32, kernel_size=(3, 3), activation='relu', padding='same')(x)\n",
        "x = BatchNormalization()(x)\n",
        "x = MaxPool2D(pool_size=(2, 2))(x)\n",
        "\n",
        "\n",
        "# second separable conv block\n",
        "x = SeparableConv2D(filters=64, kernel_size=(3, 3), activation='relu', padding='same')(x)\n",
        "x = SeparableConv2D(filters=64, kernel_size=(3, 3), activation='relu', padding='same')(x)\n",
        "x = BatchNormalization()(x)\n",
        "x = MaxPool2D(pool_size=(2, 2))(x)\n",
        "\n",
        "\n",
        "# third separable conv block\n",
        "x = SeparableConv2D(filters=128, kernel_size=(3, 3), activation='relu', padding='same')(x)\n",
        "x = SeparableConv2D(filters=128, kernel_size=(3, 3), activation='relu', padding='same')(x)\n",
        "x = BatchNormalization()(x)\n",
        "x = MaxPool2D(pool_size=(2, 2))(x)\n",
        "x = Dropout(rate=0.2)(x)\n",
        "\n",
        "# fourth separable conv block\n",
        "x = SeparableConv2D(filters=256, kernel_size=(3, 3), activation='relu', padding='same')(x)\n",
        "x = SeparableConv2D(filters=256, kernel_size=(3, 3), activation='relu', padding='same')(x)\n",
        "x = BatchNormalization()(x)\n",
        "x = MaxPool2D(pool_size=(2, 2))(x)\n",
        "x = Dropout(rate=0.2)(x)\n",
        "\n",
        "\n",
        "# fifth separable conv block\n",
        "x = SeparableConv2D(filters=512, kernel_size=(3, 3), activation='relu', padding='same')(x)\n",
        "x = SeparableConv2D(filters=512, kernel_size=(3, 3), activation='relu', padding='same')(x)\n",
        "x = BatchNormalization()(x)\n",
        "x = MaxPool2D(pool_size=(2, 2))(x)\n",
        "x = Dropout(rate=0.2)(x)\n",
        "\n",
        "# FC layer\n",
        "x = Flatten()(x)\n",
        "x = Dense(units=512, activation='relu')(x)\n",
        "x = Dropout(rate=0.7)(x)\n",
        "x = Dense(units=128, activation='relu')(x)\n",
        "x = Dropout(rate=0.5)(x)\n",
        "x = Dense(units=64, activation='relu')(x)\n",
        "x = Dropout(rate=0.3)(x)\n",
        "x = Dense(units=32, activation='relu')(x)\n",
        "x = Dropout(rate=0.3)(x)\n",
        "\n",
        "# Output layer\n",
        "output = Dense(units=3, activation='softmax')(x)\n",
        "\n",
        "# Creating model and compiling\n",
        "model = Model(inputs=inputs, outputs=output)\n",
        "\n",
        "EPOCHS = 50\n",
        "BS = 16\n",
        "\n",
        "\n",
        "# compile our model\n",
        "print(\"[INFO] compiling model...\")\n",
        "opt = \"adam\"\n",
        "model.compile(loss=\"sparse_categorical_crossentropy\", optimizer=opt,metrics=[\"accuracy\"])\n",
        "callbacks = [ModelCheckpoint('.mdl_wts.hdf5', monitor='val_loss', save_best_only=True),\n",
        "             EarlyStopping(monitor='val_loss', patience=10)]\n",
        "model.summary()"
      ],
      "metadata": {
        "execution": {
          "iopub.status.busy": "2021-12-05T21:55:28.812889Z",
          "iopub.execute_input": "2021-12-05T21:55:28.813558Z",
          "iopub.status.idle": "2021-12-05T21:55:30.961216Z",
          "shell.execute_reply.started": "2021-12-05T21:55:28.81352Z",
          "shell.execute_reply": "2021-12-05T21:55:30.960394Z"
        },
        "trusted": true,
        "id": "flUROUZORj_8"
      },
      "execution_count": null,
      "outputs": []
    },
    {
      "cell_type": "code",
      "source": [
        "len(trainX) // BS"
      ],
      "metadata": {
        "execution": {
          "iopub.status.busy": "2021-12-05T21:55:30.962495Z",
          "iopub.execute_input": "2021-12-05T21:55:30.962831Z",
          "iopub.status.idle": "2021-12-05T21:55:30.969964Z",
          "shell.execute_reply.started": "2021-12-05T21:55:30.962795Z",
          "shell.execute_reply": "2021-12-05T21:55:30.969141Z"
        },
        "trusted": true,
        "id": "vJy0OHUyRj_8"
      },
      "execution_count": null,
      "outputs": []
    },
    {
      "cell_type": "code",
      "source": [
        "BS = 16\n",
        "print(\"[INFO] training head...\")\n",
        "H = model.fit(\n",
        "\ttrainAug.flow(trainX, trainY, batch_size=BS),\n",
        "\tsteps_per_epoch=len(trainX) // BS,\n",
        "\tvalidation_data=(testX, testY),\n",
        "\tvalidation_steps=len(testX) // BS,\n",
        "\tepochs=EPOCHS,callbacks=callbacks)"
      ],
      "metadata": {
        "execution": {
          "iopub.status.busy": "2021-12-05T21:55:30.97127Z",
          "iopub.execute_input": "2021-12-05T21:55:30.971599Z",
          "iopub.status.idle": "2021-12-05T22:02:01.749223Z",
          "shell.execute_reply.started": "2021-12-05T21:55:30.971566Z",
          "shell.execute_reply": "2021-12-05T22:02:01.748257Z"
        },
        "trusted": true,
        "id": "6wKniVY8Rj_8"
      },
      "execution_count": null,
      "outputs": []
    },
    {
      "cell_type": "markdown",
      "source": [
        "## Model Evaluation"
      ],
      "metadata": {
        "id": "JTREP651Rj_9"
      }
    },
    {
      "cell_type": "code",
      "source": [
        "## Loading best model based on its weights\n",
        "\n",
        "from numpy import loadtxt\n",
        "from tensorflow.keras.models import load_model\n",
        "model = load_model('.mdl_wts.hdf5')\n",
        "score = model.evaluate(testX, testY,verbose=1)\n",
        "\n",
        "print(score)"
      ],
      "metadata": {
        "execution": {
          "iopub.status.busy": "2021-12-05T22:02:01.753567Z",
          "iopub.execute_input": "2021-12-05T22:02:01.755693Z",
          "iopub.status.idle": "2021-12-05T22:02:03.535333Z",
          "shell.execute_reply.started": "2021-12-05T22:02:01.755641Z",
          "shell.execute_reply": "2021-12-05T22:02:03.534308Z"
        },
        "trusted": true,
        "id": "erI7e2DCRj_9"
      },
      "execution_count": null,
      "outputs": []
    },
    {
      "cell_type": "code",
      "source": [
        "import itertools\n",
        "pred_Y = model.predict(testX, batch_size = 8, verbose = True)\n",
        "\n",
        "def plot_confusion_matrix(cm, classes,\n",
        "                          normalize=False,\n",
        "                          title='Confusion matrix',\n",
        "                          cmap=plt.cm.Blues):\n",
        "    \"\"\"\n",
        "    This function prints and plots the confusion matrix.\n",
        "    Normalization can be applied by setting `normalize=True`.\n",
        "    \"\"\"\n",
        "    plt.imshow(cm, interpolation='nearest', cmap=cmap)\n",
        "    plt.title(title)\n",
        "    plt.colorbar()\n",
        "    tick_marks = np.arange(len(classes))\n",
        "    plt.xticks(tick_marks, classes, rotation=45)\n",
        "    plt.yticks(tick_marks, classes)\n",
        "\n",
        "    target_names =['Normal','Covid','Virus']\n",
        "\n",
        "    if target_names is not None:\n",
        "        tick_marks = np.arange(len(target_names))\n",
        "        plt.xticks(tick_marks, target_names, rotation=45)\n",
        "        plt.yticks(tick_marks, target_names)\n",
        "    \n",
        "    if normalize:\n",
        "        cm = cm.astype('float') / cm.sum(axis=1)[:, np.newaxis]\n",
        "\n",
        "    thresh = cm.max() / 2.\n",
        "    for i, j in itertools.product(range(cm.shape[0]), range(cm.shape[1])):\n",
        "        plt.text(j, i, cm[i, j],\n",
        "                 horizontalalignment=\"center\",\n",
        "                 color=\"white\" if cm[i, j] > thresh else \"black\")\n",
        "\n",
        "    plt.tight_layout()\n",
        "    plt.ylabel('True label')\n",
        "    plt.xlabel('Predicted label')\n",
        "\n",
        "# Predict the values from the validation dataset\n",
        "Y_pred = model.predict(testX, batch_size=BS)\n",
        "# Convert predictions classes to one hot vectors \n",
        "Y_pred_classes = np.argmax(pred_Y,axis = 1) \n",
        "# Convert validation observations to one hot vectors\n",
        "# compute the confusion matrix\n",
        "confusion_mtx = confusion_matrix(testY, Y_pred_classes)\n",
        "\n",
        " \n",
        "\n",
        "# plot the confusion matrix\n",
        "plot_confusion_matrix(confusion_mtx, classes = range(3)) "
      ],
      "metadata": {
        "execution": {
          "iopub.status.busy": "2021-12-05T22:02:03.536731Z",
          "iopub.execute_input": "2021-12-05T22:02:03.537085Z",
          "iopub.status.idle": "2021-12-05T22:02:05.237425Z",
          "shell.execute_reply.started": "2021-12-05T22:02:03.53705Z",
          "shell.execute_reply": "2021-12-05T22:02:05.236631Z"
        },
        "trusted": true,
        "id": "rYQYACbURj_9"
      },
      "execution_count": null,
      "outputs": []
    },
    {
      "cell_type": "markdown",
      "source": [
        "## Classification Report"
      ],
      "metadata": {
        "id": "uh5mXgfnRj_-"
      }
    },
    {
      "cell_type": "code",
      "source": [
        "predIdxs = model.predict(testX, batch_size=BS)\n",
        "\n",
        "# for each image in the testing set we need to find the index of the\n",
        "# label with corresponding largest predicted probability\n",
        "predIdxs = np.argmax(predIdxs, axis=1)\n",
        "\n",
        "\n",
        "# show a nicely formatted classification report\n",
        "print(classification_report(testY, predIdxs,target_names=['normal','covid','virus']))"
      ],
      "metadata": {
        "execution": {
          "iopub.status.busy": "2021-12-05T22:02:05.238704Z",
          "iopub.execute_input": "2021-12-05T22:02:05.23908Z",
          "iopub.status.idle": "2021-12-05T22:02:05.713455Z",
          "shell.execute_reply.started": "2021-12-05T22:02:05.239044Z",
          "shell.execute_reply": "2021-12-05T22:02:05.712612Z"
        },
        "trusted": true,
        "id": "vb3leNRaRj_-"
      },
      "execution_count": null,
      "outputs": []
    },
    {
      "cell_type": "markdown",
      "source": [
        "## Plotting ROC-AUC Curve"
      ],
      "metadata": {
        "id": "76M3gWSNRj__"
      }
    },
    {
      "cell_type": "code",
      "source": [
        "import seaborn as sns\n",
        "import pandas as pd\n",
        "from sklearn.datasets import make_classification\n",
        "from sklearn.preprocessing import label_binarize\n",
        "from scipy import interp\n",
        "from itertools import cycle\n",
        "import pandas as pd\n",
        "%matplotlib inline\n",
        "import numpy as np\n",
        "import matplotlib.pyplot as plt\n",
        "from sklearn.metrics import roc_curve, auc\n",
        "\n",
        "y_test = pd.get_dummies(testY)\n",
        "y_test = np.array(y_test)\n",
        "\n",
        "n_classes = 3\n",
        "\n",
        "\n",
        "# Plot linewidth.\n",
        "lw = 2\n",
        "\n",
        "# Compute ROC curve and ROC area for each class\n",
        "\n",
        "\n",
        "# Compute ROC curve and ROC area for each class\n",
        "fpr = dict()\n",
        "tpr = dict()\n",
        "roc_auc = dict()\n",
        "for i in range(n_classes):\n",
        "    fpr[i], tpr[i], _ = roc_curve(y_test[:, i], pred_Y[:, i])\n",
        "    roc_auc[i] = auc(fpr[i], tpr[i])\n",
        "    # Compute micro-average ROC curve and ROC area\n",
        "fpr[\"micro\"], tpr[\"micro\"], _ = roc_curve(y_test.ravel(), pred_Y.ravel())\n",
        "roc_auc[\"micro\"] = auc(fpr[\"micro\"], tpr[\"micro\"])\n",
        "# Plot of a ROC curve for a specific class\n",
        "for i in range(n_classes):\n",
        "    plt.figure()\n",
        "    plt.plot(fpr[i], tpr[i], label='ROC curve (area = %0.2f)' % roc_auc[i])\n",
        "    plt.plot([0, 1], [0, 1], 'k--')\n",
        "    plt.xlim([0.0, 1.0])\n",
        "    plt.ylim([0.0, 1.05])\n",
        "    plt.xlabel('False Positive Rate')\n",
        "    plt.ylabel('True Positive Rate')\n",
        "    plt.title('Receiver operating characteristic example')\n",
        "    plt.legend(loc=\"lower right\")\n",
        "    plt.show()\n",
        "\n",
        "# First aggregate all false positive rates\n",
        "all_fpr = np.unique(np.concatenate([fpr[i] for i in range(n_classes)]))\n",
        "\n",
        "# Then interpolate all ROC curves at this points\n",
        "mean_tpr = np.zeros_like(all_fpr)\n",
        "for i in range(n_classes):\n",
        "    mean_tpr += np.interp(all_fpr, fpr[i], tpr[i])\n",
        "\n",
        "# Finally average it and compute AUC\n",
        "mean_tpr /= n_classes\n",
        "\n",
        "fpr[\"macro\"] = all_fpr\n",
        "tpr[\"macro\"] = mean_tpr\n",
        "roc_auc[\"macro\"] = auc(fpr[\"macro\"], tpr[\"macro\"])\n",
        "\n",
        "# Plot all ROC curves\n",
        "fig = plt.figure(figsize=(12, 8))\n",
        "plt.plot(fpr[\"micro\"], tpr[\"micro\"],\n",
        "         label='micro-average ROC curve (area = {0:0.2f})'\n",
        "               ''.format(roc_auc[\"micro\"]),\n",
        "         color='deeppink', linestyle=':', linewidth=4)\n",
        "\n",
        "plt.plot(fpr[\"macro\"], tpr[\"macro\"],\n",
        "         label='macro-average ROC curve (area = {0:0.2f})'\n",
        "               ''.format(roc_auc[\"macro\"]),\n",
        "         color='navy', linestyle=':', linewidth=4)\n",
        "\n",
        "colors = cycle(['aqua', 'darkorange', 'cornflowerblue'])\n",
        "for i, color in zip(range(n_classes), colors):\n",
        "    plt.plot(fpr[i], tpr[i], color=color, lw=lw,\n",
        "             label='ROC curve of class {0} (area = {1:0.2f})'\n",
        "             ''.format(i, roc_auc[i]))\n",
        "\n",
        "\n",
        "plt.plot([0, 1], [0, 1], 'k--', lw=lw)\n",
        "plt.xlim([0.0, 1.0])\n",
        "plt.ylim([0.0, 1.05])\n",
        "plt.xlabel('False Positive Rate')\n",
        "plt.ylabel('True Positive Rate')\n",
        "plt.title('Some extension of Receiver operating characteristic to multi-class')\n",
        "plt.legend(loc=\"lower right\")\n",
        "sns.despine()\n",
        "plt.show()"
      ],
      "metadata": {
        "execution": {
          "iopub.status.busy": "2021-12-05T22:02:05.714767Z",
          "iopub.execute_input": "2021-12-05T22:02:05.715134Z",
          "iopub.status.idle": "2021-12-05T22:02:06.504822Z",
          "shell.execute_reply.started": "2021-12-05T22:02:05.715097Z",
          "shell.execute_reply": "2021-12-05T22:02:06.50395Z"
        },
        "trusted": true,
        "id": "98-AZIRNRj__"
      },
      "execution_count": null,
      "outputs": []
    },
    {
      "cell_type": "code",
      "source": [
        "def specificity(y_true, y_pred):\n",
        "    \"\"\"\n",
        "    param:\n",
        "    y_pred - Predicted labels\n",
        "    y_true - True labels \n",
        "    Returns:\n",
        "    Specificity score\n",
        "    \"\"\"\n",
        "    neg_y_true = 1 - y_true\n",
        "    neg_y_pred = 1 - y_pred\n",
        "    fp = K.sum(neg_y_true * y_pred)\n",
        "    tn = K.sum(neg_y_true * neg_y_pred)\n",
        "    specificity = tn / (tn + fp + K.epsilon())\n",
        "    return specificity"
      ],
      "metadata": {
        "execution": {
          "iopub.status.busy": "2021-12-05T22:02:06.506759Z",
          "iopub.execute_input": "2021-12-05T22:02:06.50712Z",
          "iopub.status.idle": "2021-12-05T22:02:06.513583Z",
          "shell.execute_reply.started": "2021-12-05T22:02:06.507085Z",
          "shell.execute_reply": "2021-12-05T22:02:06.512677Z"
        },
        "trusted": true,
        "id": "kt3wbGbkRj__"
      },
      "execution_count": null,
      "outputs": []
    },
    {
      "cell_type": "code",
      "source": [
        "print(specificity(y_test, Y_pred))"
      ],
      "metadata": {
        "execution": {
          "iopub.status.busy": "2021-12-05T22:02:06.514858Z",
          "iopub.execute_input": "2021-12-05T22:02:06.515223Z",
          "iopub.status.idle": "2021-12-05T22:02:06.525702Z",
          "shell.execute_reply.started": "2021-12-05T22:02:06.515188Z",
          "shell.execute_reply": "2021-12-05T22:02:06.524612Z"
        },
        "trusted": true,
        "id": "oKrirdYxRkAA"
      },
      "execution_count": null,
      "outputs": []
    },
    {
      "cell_type": "markdown",
      "source": [
        "## Plotting Model Prediction"
      ],
      "metadata": {
        "id": "zaXl0mMIRkAA"
      }
    },
    {
      "cell_type": "code",
      "source": [
        "# getting predictions on val set.\n",
        "pred=model.predict(testX, batch_size=BS)\n",
        "Y_pred_classes=np.argmax(pred,axis=1)\n",
        "\n",
        "Y_true = np.argmax(testY,axis = 0) \n",
        "\n",
        "# Mapping Classes\n",
        "classes = {0 : 'Normal',\n",
        "            1 : 'COVID',\n",
        "            2 : 'Viral-Pneumonia'}"
      ],
      "metadata": {
        "execution": {
          "iopub.status.busy": "2021-12-05T22:02:06.527348Z",
          "iopub.execute_input": "2021-12-05T22:02:06.527819Z",
          "iopub.status.idle": "2021-12-05T22:02:07.001435Z",
          "shell.execute_reply.started": "2021-12-05T22:02:06.527782Z",
          "shell.execute_reply": "2021-12-05T22:02:07.000575Z"
        },
        "trusted": true,
        "id": "VEvGZmBjRkAA"
      },
      "execution_count": null,
      "outputs": []
    },
    {
      "cell_type": "code",
      "source": [
        "incorrect = []\n",
        "for i in range(len(testY)):\n",
        "    if(not Y_pred_classes[i] == testY[i]):\n",
        "        incorrect.append(i)\n",
        "    if(len(incorrect) == 22):\n",
        "        break\n",
        "\n",
        "correct = []\n",
        "for i in range(len(testY)):\n",
        "    if(Y_pred_classes[i] == testY[i]):\n",
        "        correct.append(i)\n",
        "    if(len(correct) == 100):\n",
        "        break"
      ],
      "metadata": {
        "execution": {
          "iopub.status.busy": "2021-12-05T22:02:07.005714Z",
          "iopub.execute_input": "2021-12-05T22:02:07.006Z",
          "iopub.status.idle": "2021-12-05T22:02:07.013149Z",
          "shell.execute_reply.started": "2021-12-05T22:02:07.005972Z",
          "shell.execute_reply": "2021-12-05T22:02:07.012138Z"
        },
        "trusted": true,
        "id": "JEqhamyDRkAA"
      },
      "execution_count": null,
      "outputs": []
    },
    {
      "cell_type": "code",
      "source": [
        "plt.imshow(testX[correct[6]], cmap='gray')\n",
        "plt.set_title(\"Predicted Label : \" + str(classes[Y_pred_classes[correct[6]]]) + \"\\n\"+\"Actual Label : \" + \n",
        "                 str(classes[testY[correct[6]]]))"
      ],
      "metadata": {
        "execution": {
          "iopub.status.busy": "2021-12-05T22:02:07.015372Z",
          "iopub.execute_input": "2021-12-05T22:02:07.015826Z",
          "iopub.status.idle": "2021-12-05T22:02:07.221341Z",
          "shell.execute_reply.started": "2021-12-05T22:02:07.01579Z",
          "shell.execute_reply": "2021-12-05T22:02:07.220031Z"
        },
        "trusted": true,
        "id": "NQfEFKY7RkAA"
      },
      "execution_count": null,
      "outputs": []
    },
    {
      "cell_type": "code",
      "source": [
        "fig, ax = plt.subplots(4,2, figsize=(12,10))\n",
        "fig.set_size_inches(10,10)\n",
        "ax[0,0].imshow(testX[correct[0]], cmap='gray')\n",
        "ax[0,0].set_title(\"Predicted Label : \" + str(classes[Y_pred_classes[correct[0]]]) + \"\\n\"+\"Actual Label : \" + \n",
        "                 str(classes[testY[correct[0]]]))\n",
        "\n",
        "ax[0,1].imshow(testX[correct[1]], cmap='gray')\n",
        "ax[0,1].set_title(\"Predicted Label : \" + str(classes[Y_pred_classes[correct[1]]]) + \"\\n\"+\"Actual Label : \" + \n",
        "                 str(classes[testY[correct[1]]]))\n",
        "ax[1,0].imshow(testX[correct[2]], cmap='gray')\n",
        "ax[1,0].set_title(\"Predicted Label : \" + str(classes[Y_pred_classes[correct[2]]]) + \"\\n\"+\"Actual Label : \" + \n",
        "                 str(classes[testY[correct[2]]]))\n",
        "ax[1,1].imshow(testX[correct[3]], cmap='gray')\n",
        "ax[1,1].set_title(\"Predicted Label : \" + str(classes[Y_pred_classes[correct[3]]]) + \"\\n\"+\"Actual Label : \" + \n",
        "                 str(classes[testY[correct[3]]]))\n",
        "ax[2,0].imshow(testX[correct[4]], cmap='gray')\n",
        "ax[2,0].set_title(\"Predicted Label : \" + str(classes[Y_pred_classes[correct[4]]]) + \"\\n\"+\"Actual Label : \" + \n",
        "                 str(classes[testY[correct[4]]]))\n",
        "ax[2,1].imshow(testX[correct[5]], cmap='gray')\n",
        "ax[2,1].set_title(\"Predicted Label : \" + str(classes[Y_pred_classes[correct[5]]]) + \"\\n\"+\"Actual Label : \" + \n",
        "                 str(classes[testY[correct[5]]]))\n",
        "ax[3,0].imshow(testX[correct[6]], cmap='gray')\n",
        "ax[3,0].set_title(\"Predicted Label : \" + str(classes[Y_pred_classes[correct[6]]]) + \"\\n\"+\"Actual Label : \" + \n",
        "                 str(classes[testY[correct[6]]]))\n",
        "ax[3,1].imshow(testX[correct[7]], cmap='gray')\n",
        "ax[3,1].set_title(\"Predicted Label : \" + str(classes[Y_pred_classes[correct[7]]]) + \"\\n\"+\"Actual Label : \" + \n",
        "                 str(classes[testY[correct[7]]]))\n",
        "fig.tight_layout(pad=1.0)\n",
        "plt.show()"
      ],
      "metadata": {
        "execution": {
          "iopub.status.busy": "2021-12-05T22:07:23.861418Z",
          "iopub.execute_input": "2021-12-05T22:07:23.86174Z",
          "iopub.status.idle": "2021-12-05T22:07:24.785386Z",
          "shell.execute_reply.started": "2021-12-05T22:07:23.861711Z",
          "shell.execute_reply": "2021-12-05T22:07:24.783858Z"
        },
        "trusted": true,
        "id": "lCZebzCfRkAB"
      },
      "execution_count": null,
      "outputs": []
    },
    {
      "cell_type": "markdown",
      "source": [
        "## Model Explanation"
      ],
      "metadata": {
        "id": "O4RP3HeURkAB"
      }
    },
    {
      "cell_type": "markdown",
      "source": [
        "Analyzing Correct predictions by Model Using LIME"
      ],
      "metadata": {
        "id": "ROq52GW2RkAB"
      }
    },
    {
      "cell_type": "code",
      "source": [
        "plt.imshow(testX[correct[4]])"
      ],
      "metadata": {
        "execution": {
          "iopub.status.busy": "2021-12-05T22:30:20.465724Z",
          "iopub.execute_input": "2021-12-05T22:30:20.466148Z",
          "iopub.status.idle": "2021-12-05T22:30:20.643812Z",
          "shell.execute_reply.started": "2021-12-05T22:30:20.466108Z",
          "shell.execute_reply": "2021-12-05T22:30:20.643012Z"
        },
        "trusted": true,
        "id": "Axfp_yv1RkAB"
      },
      "execution_count": null,
      "outputs": []
    },
    {
      "cell_type": "code",
      "source": [
        "import lime\n",
        "from lime import lime_image\n",
        "\n",
        "explainer = lime_image.LimeImageExplainer()\n",
        "\n",
        "explanation = explainer.explain_instance(testX[correct[4]], model.predict, top_labels=5, hide_color=0, num_samples=100)"
      ],
      "metadata": {
        "execution": {
          "iopub.status.busy": "2021-12-05T22:30:24.677814Z",
          "iopub.execute_input": "2021-12-05T22:30:24.678189Z",
          "iopub.status.idle": "2021-12-05T22:30:26.501067Z",
          "shell.execute_reply.started": "2021-12-05T22:30:24.678158Z",
          "shell.execute_reply": "2021-12-05T22:30:26.50018Z"
        },
        "trusted": true,
        "id": "FlCdX4I4RkAB"
      },
      "execution_count": null,
      "outputs": []
    },
    {
      "cell_type": "code",
      "source": [
        "from skimage.segmentation import mark_boundaries\n",
        "temp, mask = explanation.get_image_and_mask(explanation.top_labels[0], positive_only=True, num_features=5, hide_rest=True)\n",
        "plt.imshow(mark_boundaries(temp / 2 + 0.5, mask))"
      ],
      "metadata": {
        "execution": {
          "iopub.status.busy": "2021-12-05T22:30:41.092758Z",
          "iopub.execute_input": "2021-12-05T22:30:41.093105Z",
          "iopub.status.idle": "2021-12-05T22:30:41.255614Z",
          "shell.execute_reply.started": "2021-12-05T22:30:41.093074Z",
          "shell.execute_reply": "2021-12-05T22:30:41.254705Z"
        },
        "trusted": true,
        "id": "_6TkPRKcRkAC"
      },
      "execution_count": null,
      "outputs": []
    },
    {
      "cell_type": "code",
      "source": [
        "temp, mask = explanation.get_image_and_mask(explanation.top_labels[0], positive_only=True, num_features=5, hide_rest=False)\n",
        "plt.imshow(mark_boundaries(temp / 2 + 0.5, mask))"
      ],
      "metadata": {
        "execution": {
          "iopub.status.busy": "2021-12-05T22:30:41.451059Z",
          "iopub.execute_input": "2021-12-05T22:30:41.451321Z",
          "iopub.status.idle": "2021-12-05T22:30:41.614368Z",
          "shell.execute_reply.started": "2021-12-05T22:30:41.451296Z",
          "shell.execute_reply": "2021-12-05T22:30:41.613581Z"
        },
        "trusted": true,
        "id": "QgdAaqyuRkAC"
      },
      "execution_count": null,
      "outputs": []
    },
    {
      "cell_type": "code",
      "source": [
        "temp, mask = explanation.get_image_and_mask(explanation.top_labels[0], positive_only=False, num_features=10, hide_rest=False)\n",
        "plt.imshow(mark_boundaries(temp / 2 + 0.5, mask))"
      ],
      "metadata": {
        "execution": {
          "iopub.status.busy": "2021-12-05T22:30:42.186838Z",
          "iopub.execute_input": "2021-12-05T22:30:42.187137Z",
          "iopub.status.idle": "2021-12-05T22:30:42.355583Z",
          "shell.execute_reply.started": "2021-12-05T22:30:42.18711Z",
          "shell.execute_reply": "2021-12-05T22:30:42.354808Z"
        },
        "trusted": true,
        "id": "kjPfyjtNRkAC"
      },
      "execution_count": null,
      "outputs": []
    },
    {
      "cell_type": "markdown",
      "source": [
        "## GradCAM Heatmap"
      ],
      "metadata": {
        "id": "bF4At2THRkAC"
      }
    },
    {
      "cell_type": "code",
      "source": [
        "!pip install tf-keras-vis"
      ],
      "metadata": {
        "execution": {
          "iopub.status.busy": "2021-12-05T22:15:53.837146Z",
          "iopub.execute_input": "2021-12-05T22:15:53.837455Z",
          "iopub.status.idle": "2021-12-05T22:16:01.783319Z",
          "shell.execute_reply.started": "2021-12-05T22:15:53.837425Z",
          "shell.execute_reply": "2021-12-05T22:16:01.782297Z"
        },
        "trusted": true,
        "id": "K9xAr_pYRkAC"
      },
      "execution_count": null,
      "outputs": []
    },
    {
      "cell_type": "code",
      "source": [
        "import tensorflow as tf\n",
        "from tensorflow.keras import backend as K\n",
        "from tf_keras_vis.activation_maximization import ActivationMaximization\n",
        "from tf_keras_vis.utils.callbacks import Print\n",
        "\n",
        "# Define modifier to replace a softmax function of the last layer to a linear function.\n",
        "def model_modifier(m):\n",
        "    m.layers[-1].activation = tf.keras.activations.linear\n",
        "\n",
        "# Create Activation Maximization object\n",
        "activation_maximization = ActivationMaximization(model, model_modifier)\n",
        "\n",
        "# Define loss function. 20 is the imagenet index corresponding to ouzel.\n",
        "loss = lambda x: K.mean(x[:, 1])\n",
        "\n",
        "# Generate max activation with debug printing\n",
        "activation = activation_maximization(loss, callbacks=[Print(interval=100)])\n",
        "image = activation[0].astype(np.uint8)\n",
        "\n",
        "f, ax = plt.subplots(figsize=(10, 5), subplot_kw={'xticks': [], 'yticks': []})\n",
        "ax.imshow(image)\n",
        "plt.show()\n"
      ],
      "metadata": {
        "execution": {
          "iopub.status.busy": "2021-12-05T22:31:31.748626Z",
          "iopub.execute_input": "2021-12-05T22:31:31.748959Z",
          "iopub.status.idle": "2021-12-05T22:31:39.180664Z",
          "shell.execute_reply.started": "2021-12-05T22:31:31.74891Z",
          "shell.execute_reply": "2021-12-05T22:31:39.179792Z"
        },
        "trusted": true,
        "id": "Os8DSO9vRkAC"
      },
      "execution_count": null,
      "outputs": []
    },
    {
      "cell_type": "code",
      "source": [
        "import numpy as np\n",
        "from matplotlib import pyplot as plt\n",
        "%matplotlib inline\n",
        "from tensorflow.keras.preprocessing.image import load_img\n",
        "\n",
        "# Load images\n",
        "img1 = load_img('../input/covid-cxr-image-dataset-research/COVID_IEEE/virus/person1213_virus_2058.jpeg', target_size=(224, 224))\n",
        "img2 = load_img('../input/covid-cxr-image-dataset-research/COVID_IEEE/virus/person1273_virus_2191.jpeg', target_size=(224, 224))\n",
        "img3 = load_img('../input/covid-cxr-image-dataset-research/COVID_IEEE/normal/IM-0206-0001.jpeg', target_size=(224, 224))\n",
        "\n",
        "images = np.asarray([np.array(img1), np.array(img2),np.array(img3)])\n",
        "\n",
        "# Prepare datasets\n",
        "X = preprocess_input(images)\n",
        "\n",
        "# Render\n",
        "subprot_args = {\n",
        "    'nrows': 1,\n",
        "    'ncols': 3,\n",
        "    'figsize': (6, 3),\n",
        "    'subplot_kw': {'xticks': [], 'yticks': []}\n",
        "}\n",
        "f, ax = plt.subplots(**subprot_args)\n",
        "for i in range(len(images)):\n",
        "    ax[i].imshow(images[i])\n",
        "plt.tight_layout()\n",
        "plt.show()"
      ],
      "metadata": {
        "execution": {
          "iopub.status.busy": "2021-12-05T22:31:50.820519Z",
          "iopub.execute_input": "2021-12-05T22:31:50.820895Z",
          "iopub.status.idle": "2021-12-05T22:31:51.210903Z",
          "shell.execute_reply.started": "2021-12-05T22:31:50.82086Z",
          "shell.execute_reply": "2021-12-05T22:31:51.209585Z"
        },
        "trusted": true,
        "id": "FIZw_z8SRkAD"
      },
      "execution_count": null,
      "outputs": []
    },
    {
      "cell_type": "code",
      "source": [
        "# Define loss function. 1 is the imagenet index corresponding to Goldfish,\n",
        "# And 294 is one corresponding to Bear.\n",
        "def loss(output):\n",
        "    return (output[1][1], output[0][1], output[0][0])\n",
        "\n",
        "# Define modifier to replace a softmax function of the last layer to a linear function.\n",
        "def model_modifier(m):\n",
        "    m.layers[-1].activation = tf.keras.activations.linear\n",
        "    return m"
      ],
      "metadata": {
        "execution": {
          "iopub.status.busy": "2021-12-05T22:31:51.386487Z",
          "iopub.execute_input": "2021-12-05T22:31:51.386755Z",
          "iopub.status.idle": "2021-12-05T22:31:51.393879Z",
          "shell.execute_reply.started": "2021-12-05T22:31:51.386728Z",
          "shell.execute_reply": "2021-12-05T22:31:51.392677Z"
        },
        "trusted": true,
        "id": "FKbABCyNRkAD"
      },
      "execution_count": null,
      "outputs": []
    },
    {
      "cell_type": "code",
      "source": [
        "from matplotlib import cm\n",
        "from tf_keras_vis.gradcam import Gradcam\n",
        "from tf_keras_vis.utils import normalize\n",
        "\n",
        "# Create Gradcam object\n",
        "gradcam = Gradcam(model, model_modifier, clone=False)\n",
        "\n",
        "# Generate heatmap with GradCAM\n",
        "cam = gradcam(loss, X)\n",
        "cam = normalize(cam)\n",
        "\n",
        "f, ax = plt.subplots(**subprot_args)\n",
        "for i in range(len(cam)):\n",
        "    heatmap = np.uint8(cm.jet(cam[i])[..., :3] * 255)\n",
        "    ax[i].imshow(images[i])\n",
        "    ax[i].imshow(heatmap, cmap='jet', alpha=0.5)\n",
        "plt.tight_layout()\n",
        "plt.show()"
      ],
      "metadata": {
        "execution": {
          "iopub.status.busy": "2021-12-05T22:31:52.1345Z",
          "iopub.execute_input": "2021-12-05T22:31:52.134792Z",
          "iopub.status.idle": "2021-12-05T22:31:52.430593Z",
          "shell.execute_reply.started": "2021-12-05T22:31:52.134764Z",
          "shell.execute_reply": "2021-12-05T22:31:52.429777Z"
        },
        "trusted": true,
        "id": "MWVyVCYERkAD"
      },
      "execution_count": null,
      "outputs": []
    },
    {
      "cell_type": "code",
      "source": [
        "ins = np.asarray([np.array(testX[correct[0]]),np.array(testX[correct[3]]), np.array(testX[correct[5]])])\n",
        "S = preprocess_input(images)\n",
        "\n",
        "# Render\n",
        "subprot_args = {\n",
        "    'nrows': 1,\n",
        "    'ncols': 3,\n",
        "    'figsize': (8, 4),\n",
        "    'subplot_kw': {'xticks': [], 'yticks': []}\n",
        "}\n",
        "f, ax = plt.subplots(**subprot_args)\n",
        "for i in range(len(ins)):\n",
        "    ax[i].imshow(ins[i])\n",
        "plt.tight_layout()\n",
        "plt.show()"
      ],
      "metadata": {
        "execution": {
          "iopub.status.busy": "2021-12-05T22:31:52.869308Z",
          "iopub.execute_input": "2021-12-05T22:31:52.86962Z",
          "iopub.status.idle": "2021-12-05T22:31:53.10478Z",
          "shell.execute_reply.started": "2021-12-05T22:31:52.869591Z",
          "shell.execute_reply": "2021-12-05T22:31:53.103963Z"
        },
        "trusted": true,
        "id": "nFempgLVRkAD"
      },
      "execution_count": null,
      "outputs": []
    },
    {
      "cell_type": "code",
      "source": [
        "from matplotlib import cm\n",
        "from tf_keras_vis.gradcam import Gradcam\n",
        "from tf_keras_vis.utils import normalize\n",
        "\n",
        "# Create Gradcam object\n",
        "gradcam = Gradcam(model, model_modifier, clone=False)\n",
        "\n",
        "# Generate heatmap with GradCAM\n",
        "cam = gradcam(loss, S)\n",
        "cam = normalize(cam)\n",
        "\n",
        "f, ax = plt.subplots(**subprot_args)\n",
        "for i in range(len(cam)):\n",
        "    heatmap = np.uint8(cm.jet(cam[i])[..., :3] * 255)\n",
        "    ax[i].imshow(ins[i])\n",
        "    ax[i].imshow(heatmap, cmap='jet', alpha=0.5)\n",
        "plt.tight_layout()\n",
        "plt.show()"
      ],
      "metadata": {
        "execution": {
          "iopub.status.busy": "2021-12-05T22:31:54.989197Z",
          "iopub.execute_input": "2021-12-05T22:31:54.989533Z",
          "iopub.status.idle": "2021-12-05T22:31:55.320603Z",
          "shell.execute_reply.started": "2021-12-05T22:31:54.989502Z",
          "shell.execute_reply": "2021-12-05T22:31:55.319723Z"
        },
        "trusted": true,
        "id": "i-FYXULuRkAE"
      },
      "execution_count": null,
      "outputs": []
    },
    {
      "cell_type": "code",
      "source": [
        "heatmap = np.uint8(cm.jet(cam[0])[..., :3] * 255)\n",
        "plt.imshow(ins[0])\n",
        "plt.imshow(heatmap, cmap='jet', alpha=0.5)"
      ],
      "metadata": {
        "execution": {
          "iopub.status.busy": "2021-12-05T22:31:56.061523Z",
          "iopub.execute_input": "2021-12-05T22:31:56.06184Z",
          "iopub.status.idle": "2021-12-05T22:31:56.251703Z",
          "shell.execute_reply.started": "2021-12-05T22:31:56.06181Z",
          "shell.execute_reply": "2021-12-05T22:31:56.250889Z"
        },
        "trusted": true,
        "id": "4Q8xqDZtRkAE"
      },
      "execution_count": null,
      "outputs": []
    },
    {
      "cell_type": "markdown",
      "source": [
        "## Saliency Maps"
      ],
      "metadata": {
        "id": "o7TPnuKVRkAE"
      }
    },
    {
      "cell_type": "code",
      "source": [
        "from tf_keras_vis.saliency import Saliency\n",
        "from tf_keras_vis.utils import normalize\n",
        "\n",
        "# Create Saliency object\n",
        "saliency = Saliency(model, model_modifier, clone=False)\n",
        "\n",
        "# Generate saliency map\n",
        "saliency_map = saliency(loss, S)\n",
        "saliency_map = normalize(saliency_map)\n",
        "\n",
        "f, ax = plt.subplots(**subprot_args)\n",
        "for i in range(len(saliency_map)):\n",
        "    ax[i].imshow(saliency_map[i], cmap='jet')\n",
        "plt.tight_layout()\n",
        "plt.show()\n"
      ],
      "metadata": {
        "execution": {
          "iopub.status.busy": "2021-12-05T22:32:15.371132Z",
          "iopub.execute_input": "2021-12-05T22:32:15.371616Z",
          "iopub.status.idle": "2021-12-05T22:32:15.631597Z",
          "shell.execute_reply.started": "2021-12-05T22:32:15.371573Z",
          "shell.execute_reply": "2021-12-05T22:32:15.630779Z"
        },
        "trusted": true,
        "id": "xp93VxkMRkAE"
      },
      "execution_count": null,
      "outputs": []
    },
    {
      "cell_type": "code",
      "source": [
        "# Generate saliency map with smoothing that reduce noise by adding noise\n",
        "saliency_map = saliency(loss, S, smooth_samples=100)\n",
        "saliency_map = normalize(saliency_map)\n",
        "\n",
        "f, ax = plt.subplots(**subprot_args)\n",
        "for i in range(len(saliency_map)):\n",
        "    ax[i].imshow(saliency_map[i], cmap='jet')\n",
        "plt.tight_layout()\n",
        "plt.show()\n"
      ],
      "metadata": {
        "execution": {
          "iopub.status.busy": "2021-12-05T22:32:15.635402Z",
          "iopub.execute_input": "2021-12-05T22:32:15.635657Z",
          "iopub.status.idle": "2021-12-05T22:32:20.770729Z",
          "shell.execute_reply.started": "2021-12-05T22:32:15.635632Z",
          "shell.execute_reply": "2021-12-05T22:32:20.769934Z"
        },
        "trusted": true,
        "id": "yKpZiDk-RkAF"
      },
      "execution_count": null,
      "outputs": []
    },
    {
      "cell_type": "code",
      "source": [
        "plt.imshow(saliency_map[0], cmap='jet')"
      ],
      "metadata": {
        "execution": {
          "iopub.status.busy": "2021-12-05T22:32:20.772114Z",
          "iopub.execute_input": "2021-12-05T22:32:20.772632Z",
          "iopub.status.idle": "2021-12-05T22:32:20.929718Z",
          "shell.execute_reply.started": "2021-12-05T22:32:20.772591Z",
          "shell.execute_reply": "2021-12-05T22:32:20.928856Z"
        },
        "trusted": true,
        "id": "OlswqTS6RkAG"
      },
      "execution_count": null,
      "outputs": []
    },
    {
      "cell_type": "markdown",
      "source": [
        "# DeepSHAP"
      ],
      "metadata": {
        "id": "MeUbYLxzRkAG"
      }
    },
    {
      "cell_type": "code",
      "source": [
        "!pip install shap"
      ],
      "metadata": {
        "execution": {
          "iopub.status.busy": "2021-12-05T22:16:16.025976Z",
          "iopub.execute_input": "2021-12-05T22:16:16.026328Z",
          "iopub.status.idle": "2021-12-05T22:16:22.460317Z",
          "shell.execute_reply.started": "2021-12-05T22:16:16.026291Z",
          "shell.execute_reply": "2021-12-05T22:16:22.459101Z"
        },
        "trusted": true,
        "id": "msTAvPliRkAG"
      },
      "execution_count": null,
      "outputs": []
    },
    {
      "cell_type": "code",
      "source": [
        "X.shape, trainX.shape"
      ],
      "metadata": {
        "execution": {
          "iopub.status.busy": "2021-12-05T22:02:07.258306Z",
          "iopub.status.idle": "2021-12-05T22:02:07.259099Z"
        },
        "trusted": true,
        "id": "1wE3-Cw5RkAH"
      },
      "execution_count": null,
      "outputs": []
    },
    {
      "cell_type": "code",
      "source": [
        "import shap\n",
        "\n",
        "shap.explainers._deep.deep_tf.op_handlers[\"FusedBatchNormV3\"] = shap.explainers._deep.deep_tf.linearity_1d(0)\n",
        "\n",
        "background_b = trainX[np.random.choice(trainX.shape[0], 100, replace=False)]\n",
        "\n",
        "# explain predictions of the model on three images\n",
        "e_b = shap.DeepExplainer(model, background_b)\n",
        "# ...or pass tensors directly\n",
        "# e = shap.DeepExplainer((model.layers[0].i\n",
        "\n",
        "shap_valuess = e_b.shap_values(trainX[1300:1400])"
      ],
      "metadata": {
        "execution": {
          "iopub.status.busy": "2021-12-05T22:02:07.260313Z",
          "iopub.status.idle": "2021-12-05T22:02:07.261155Z"
        },
        "trusted": true,
        "id": "cj2K-oBdRkAH"
      },
      "execution_count": null,
      "outputs": []
    },
    {
      "cell_type": "code",
      "source": [
        ""
      ],
      "metadata": {
        "id": "GiMNC0x6RkAH"
      },
      "execution_count": null,
      "outputs": []
    }
  ]
}